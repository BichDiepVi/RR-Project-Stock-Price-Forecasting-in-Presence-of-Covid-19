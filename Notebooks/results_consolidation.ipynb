{
 "cells": [
  {
   "cell_type": "markdown",
   "id": "00e91584",
   "metadata": {},
   "source": [
    "|      |           | Autoregression           |                  | LSTM          |                  | XGBoost     |                  | Last Value    |                  |\n",
    "| ---- | --------- | ------------------------ | ---------------- | ------------- | ---------------- | ----------- | ---------------- | ------------- | ---------------- |\n",
    "|      |           | Article                  | Replication      | Article       | Replication      | Article     | Replication      | Article       | Replication      |\n",
    "| MAE  | Microsoft |                   3.3239 |           3.2690 |        6.0038 |           3.8144 |      4.1920 |           5.0110 |        3.3433 |           3.2803 |\n",
    "|      | Apple     |                   1.9200 |           1.8820 |        6.1825 |           2.5536 |      2.5130 |           3.7620 |        1.9204 |           1.8837 |\n",
    "|      | Tesla     |                 13.8713  |        13.8367   |      75.5746  |      164.3858    |    19.1080  |        22.5610   |      13.6959  |           4.6122 |\n",
    "|      | Google    |                 24.4496  |        24.8348   |      36.9705  |        29.9186   |    28.2750  |        28.2080   |      24.3832  |           1.2171 |\n",
    "|      | Amazon    |                 46.2729  |        45.3326   |    119.7464   |      149.0705    |    58.2200  |        54.9110   |      46.3224  |           2.2750 |\n",
    "|      | Facebook  |                   4.5977 |           4.5526 |        7.7448 |           5.6475 |      5.8480 |           5.1910 |        4.6018 |           4.5548 |\n",
    "| RMSE | Microsoft |                   4.5878 |           4.4568 |        8.0697 |           5.1004 |      5.6610 |           6.5500 |        4.6081 |           4.5174 |\n",
    "|      | Apple     |                   2.6160 |           2.5702 |        8.4841 |           3.3687 |      3.4380 |           5.0660 |        2.6256 |           2.5724 |\n",
    "|      | Tesla     |                 20.6022  |        20.4994   |    119.6900   |      236.8421    |    27.8060  |        31.0270   |      20.4481  |           6.8331 |\n",
    "|      | Google    |                 34.2613  |        34.6994   |      53.5234  |        40.8264   |    39.4910  |        39.8820   |      34.1388  |           1.7016 |\n",
    "|      | Amazon    |                 61.5987  |        60.4575   |    157.3958   |      169.7615    |    75.5310  |        69.9430   |      61.8686  |           3.0273 |\n",
    "|      | Facebook  |                   6.1932 |           6.1867 |      10.3954  |           7.4096 |      8.1940 |           6.8900 |        6.2081 |           6.1919 |\n",
    "\n"
   ]
  },
  {
   "cell_type": "code",
   "execution_count": null,
   "id": "eb170ab2",
   "metadata": {},
   "outputs": [],
   "source": []
  }
 ],
 "metadata": {
  "hide_input": false,
  "kernelspec": {
   "display_name": "Python 3 (ipykernel)",
   "language": "python",
   "name": "python3"
  },
  "language_info": {
   "codemirror_mode": {
    "name": "ipython",
    "version": 3
   },
   "file_extension": ".py",
   "mimetype": "text/x-python",
   "name": "python",
   "nbconvert_exporter": "python",
   "pygments_lexer": "ipython3",
   "version": "3.11.5"
  }
 },
 "nbformat": 4,
 "nbformat_minor": 5
}
