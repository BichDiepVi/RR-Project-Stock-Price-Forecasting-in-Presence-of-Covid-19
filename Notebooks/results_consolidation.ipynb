{
 "cells": [
  {
   "cell_type": "markdown",
   "id": "91778b6e-3214-4fa4-b2ed-a3bbc5f867a9",
   "metadata": {},
   "source": [
    "# Stock Price Forecasting in Presence of Covid-19"
   ]
  },
  {
   "cell_type": "markdown",
   "id": "379d6594-9e5b-4617-88a3-d08e820b6cc2",
   "metadata": {},
   "source": [
    "## Introduction"
   ]
  },
  {
   "cell_type": "markdown",
   "id": "bf20a5b3-41a2-4710-9e4f-477d5f6d4252",
   "metadata": {},
   "source": [
    "The study focuses on forecasting stock prices (Microsoft, Apple, Google, Facebook, Tesla and Amazon) amidst the heightened volatility caused by the COVID-19 pandemic using various models:\n",
    "\n",
    "* Autoregression Mode\n",
    "* LSTM\n",
    "* XGBoost\n",
    "* Last Value Model\n",
    "\n",
    "They concluded that Autoregression and Last Value models outperformed machine learning models LSTM and XGBoost"
   ]
  },
  {
   "cell_type": "markdown",
   "id": "1b3d3206-7fe2-49cd-ad5d-e5b1ae32878c",
   "metadata": {},
   "source": [
    "## Comparison"
   ]
  },
  {
   "cell_type": "markdown",
   "id": "09910b2f-c861-4429-8015-7f8a7753e6ba",
   "metadata": {},
   "source": [
    "Our reproduced results show that:\n",
    "* Autoregression and Last Value models outperformed machine learning models LSTM and XGBoost\n",
    "* Autoregression and XGBoost results are quite similar to the original article\n",
    "* LSTM performed better than the original article for Microsoft, Apple, Google, and Facebook; however, it performed worse for Tesla and Amazon\n",
    "* Last Value model performed better than the original article, especially for Amazon, Tesla, and Google"
   ]
  },
  {
   "cell_type": "markdown",
   "id": "1c7a8df2-d329-43ac-8859-c3b19597dd72",
   "metadata": {},
   "source": [
    "#### Detail performance metrics"
   ]
  },
  {
   "cell_type": "markdown",
   "id": "00e91584",
   "metadata": {},
   "source": [
    "|      |           | Autoregression           |                  | LSTM          |                  | XGBoost     |                  | Last Value    |                  |\n",
    "| ---- | --------- | ------------------------ | ---------------- | ------------- | ---------------- | ----------- | ---------------- | ------------- | ---------------- |\n",
    "|      |           | Article                  | Replication      | Article       | Replication      | Article     | Replication      | Article       | Replication      |\n",
    "| MAE  | Microsoft |                   3.3239 |           3.2690 |        6.0038 |           3.8144 |      4.1920 |           5.0110 |        3.3433 |           3.2803 |\n",
    "|      | Apple     |                   1.9200 |           1.8820 |        6.1825 |           2.5536 |      2.5130 |           3.7620 |        1.9204 |           1.8837 |\n",
    "|      | Tesla     |                 13.8713  |        13.8367   |      75.5746  |      164.3858    |    19.1080  |        22.5610   |      13.6959  |           4.6122 |\n",
    "|      | Google    |                 24.4496  |        24.8348   |      36.9705  |        29.9186   |    28.2750  |        28.2080   |      24.3832  |           1.2171 |\n",
    "|      | Amazon    |                 46.2729  |        45.3326   |    119.7464   |      149.0705    |    58.2200  |        54.9110   |      46.3224  |           2.2750 |\n",
    "|      | Facebook  |                   4.5977 |           4.5526 |        7.7448 |           5.6475 |      5.8480 |           5.1910 |        4.6018 |           4.5548 |\n",
    "| RMSE | Microsoft |                   4.5878 |           4.4568 |        8.0697 |           5.1004 |      5.6610 |           6.5500 |        4.6081 |           4.5174 |\n",
    "|      | Apple     |                   2.6160 |           2.5702 |        8.4841 |           3.3687 |      3.4380 |           5.0660 |        2.6256 |           2.5724 |\n",
    "|      | Tesla     |                 20.6022  |        20.4994   |    119.6900   |      236.8421    |    27.8060  |        31.0270   |      20.4481  |           6.8331 |\n",
    "|      | Google    |                 34.2613  |        34.6994   |      53.5234  |        40.8264   |    39.4910  |        39.8820   |      34.1388  |           1.7016 |\n",
    "|      | Amazon    |                 61.5987  |        60.4575   |    157.3958   |      169.7615    |    75.5310  |        69.9430   |      61.8686  |           3.0273 |\n",
    "|      | Facebook  |                   6.1932 |           6.1867 |      10.3954  |           7.4096 |      8.1940 |           6.8900 |        6.2081 |           6.1919 |\n",
    "\n"
   ]
  },
  {
   "cell_type": "markdown",
   "id": "2372a00d-585f-4e4c-9c7f-75ed6e28b8cd",
   "metadata": {},
   "source": [
    "## Problem encountered"
   ]
  },
  {
   "cell_type": "markdown",
   "id": "65cafde2-8857-4475-b8a3-d928293a0e50",
   "metadata": {},
   "source": [
    "1. The original article does not clearly mention the methodology and final selected model hyperparameters. Therefore, it is difficult for us to replicate, especially for complex models with many hyperparameters like LSTM and XGBoost\n",
    "\n",
    "2. Simple models, such as Autoregression and Last Value, outperformed complex machine learning models like LSTM and XGBoost. This may be because while AR and Last Value models perform rolling forecasts, which always use new available data to re-train the models, LSTM and XGBoost only train the model once with the training data to make predictions.\\\n",
    "   => Solution: Performing a walk-forward procedure, which re-trains models with new available data, may improve the performance of LSTM and XGBoost models."
   ]
  }
 ],
 "metadata": {
  "hide_input": false,
  "kernelspec": {
   "display_name": "Python 3 (ipykernel)",
   "language": "python",
   "name": "python3"
  },
  "language_info": {
   "codemirror_mode": {
    "name": "ipython",
    "version": 3
   },
   "file_extension": ".py",
   "mimetype": "text/x-python",
   "name": "python",
   "nbconvert_exporter": "python",
   "pygments_lexer": "ipython3",
   "version": "3.11.7"
  }
 },
 "nbformat": 4,
 "nbformat_minor": 5
}
