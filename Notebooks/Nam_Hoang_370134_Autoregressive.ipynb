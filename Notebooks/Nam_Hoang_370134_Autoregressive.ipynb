{
 "cells": [
  {
   "cell_type": "code",
   "execution_count": 1,
   "id": "9bc91537",
   "metadata": {},
   "outputs": [
    {
     "name": "stderr",
     "output_type": "stream",
     "text": [
      "C:\\Users\\Lenovo\\AppData\\Roaming\\Python\\Python311\\site-packages\\pandas\\core\\arrays\\masked.py:60: UserWarning: Pandas requires version '1.3.6' or newer of 'bottleneck' (version '1.3.5' currently installed).\n",
      "  from pandas.core import (\n"
     ]
    }
   ],
   "source": [
    "import pandas as pd\n",
    "import numpy as np\n",
    "import os\n",
    "from pmdarima.arima import ADFTest\n",
    "from pmdarima.arima.utils import ndiffs\n",
    "from pmdarima.arima import auto_arima\n",
    "from sklearn.metrics import mean_squared_error, mean_absolute_error\n",
    "import matplotlib.pyplot as plt"
   ]
  },
  {
   "cell_type": "markdown",
   "id": "ba4c45f0",
   "metadata": {},
   "source": [
    "train and test data are adjusted to account for stock split which happened to Google, Amazon and Tesla. At the time the data was downloaded, the stock split has taken place while when the paper was published, it still used the pre-split stock data. The adjustment was done by multiplying prices of Google, Amazon and Tesla by 20, 20 and 3, respectively."
   ]
  },
  {
   "cell_type": "code",
   "execution_count": 2,
   "id": "6712365f",
   "metadata": {},
   "outputs": [],
   "source": [
    "wk_dir = 'C:\\\\Users\\\\Lenovo\\\\Desktop\\\\Reproducible Research\\\\Project'\n",
    "os.chdir(wk_dir)\n",
    "\n",
    "train = pd.read_csv('train_adjusted.csv')\n",
    "test = pd.read_csv('test_adjusted.csv')"
   ]
  },
  {
   "cell_type": "markdown",
   "id": "ed1261fd",
   "metadata": {},
   "source": [
    "***Perform ADF test to identify the order of integration***"
   ]
  },
  {
   "cell_type": "code",
   "execution_count": 4,
   "id": "eade4f05",
   "metadata": {},
   "outputs": [
    {
     "name": "stdout",
     "output_type": "stream",
     "text": [
      "     Should_Diff   p-value\n",
      "AAPL        True  0.939979\n",
      "META        True  0.436833\n",
      "MSFT        True  0.902401\n",
      "AMZN        True  0.536282\n",
      "GOOG        True  0.055217\n",
      "TSLA        True  0.390992\n"
     ]
    }
   ],
   "source": [
    "adf_test = ADFTest(alpha=0.05)\n",
    "\n",
    "adf_results = {}\n",
    "for column in train.columns:\n",
    "    if column != 'Date':\n",
    "        result = adf_test.should_diff(train[column])\n",
    "        adf_results[column] = {'Should_Diff': result[1], 'p-value': result[0]}\n",
    "adf_test_results = pd.DataFrame(adf_results).T\n",
    "print(adf_test_results)"
   ]
  },
  {
   "cell_type": "markdown",
   "id": "065298c6",
   "metadata": {},
   "source": [
    "***The result suggests that the current time series are not stationary. With that said, we perform additional test to check how many differencing operation is needed for each time series to convert them to startionary processes.***"
   ]
  },
  {
   "cell_type": "code",
   "execution_count": 5,
   "id": "7308c293",
   "metadata": {},
   "outputs": [
    {
     "name": "stdout",
     "output_type": "stream",
     "text": [
      "      Number of Differences\n",
      "AAPL                      1\n",
      "META                      1\n",
      "MSFT                      1\n",
      "AMZN                      1\n",
      "GOOG                      1\n",
      "TSLA                      1\n"
     ]
    }
   ],
   "source": [
    "n_diff_results = {}\n",
    "for column in train.columns:\n",
    "    if column != 'Date':\n",
    "        n_diff = ndiffs(train[column])\n",
    "        n_diff_results[column] = {'Number of Differences': n_diff}\n",
    "n_diff_results = pd.DataFrame(n_diff_results).T\n",
    "print(n_diff_results)"
   ]
  },
  {
   "cell_type": "markdown",
   "id": "ea982a61",
   "metadata": {},
   "source": [
    "***We knows that first order difference suffices for these time series which are anticipated for stock price data. The next step, we use auto_arima with fixed differencing parameter capped at 1 as a result of the previous test***"
   ]
  },
  {
   "cell_type": "code",
   "execution_count": 6,
   "id": "671c06ac",
   "metadata": {},
   "outputs": [
    {
     "name": "stdout",
     "output_type": "stream",
     "text": [
      "Performing stepwise search to minimize aic\n",
      " ARIMA(1,1,2)(0,0,0)[0] intercept   : AIC=2375.231, Time=0.67 sec\n",
      " ARIMA(0,1,0)(0,0,0)[0] intercept   : AIC=2373.772, Time=0.14 sec\n",
      " ARIMA(1,1,0)(0,0,0)[0] intercept   : AIC=2375.667, Time=0.12 sec\n",
      " ARIMA(0,1,1)(0,0,0)[0] intercept   : AIC=2375.653, Time=0.15 sec\n",
      " ARIMA(0,1,0)(0,0,0)[0]             : AIC=2376.144, Time=0.04 sec\n",
      " ARIMA(1,1,1)(0,0,0)[0] intercept   : AIC=2377.399, Time=1.06 sec\n",
      "\n",
      "Best model:  ARIMA(0,1,0)(0,0,0)[0] intercept\n",
      "Total fit time: 2.194 seconds\n",
      "Performing stepwise search to minimize aic\n",
      " ARIMA(1,1,2)(0,0,0)[0] intercept   : AIC=6062.912, Time=0.92 sec\n",
      " ARIMA(0,1,0)(0,0,0)[0] intercept   : AIC=6063.987, Time=0.04 sec\n",
      " ARIMA(1,1,0)(0,0,0)[0] intercept   : AIC=6065.541, Time=0.10 sec\n",
      " ARIMA(0,1,1)(0,0,0)[0] intercept   : AIC=6065.525, Time=0.19 sec\n",
      " ARIMA(0,1,0)(0,0,0)[0]             : AIC=6063.746, Time=0.04 sec\n",
      " ARIMA(0,1,2)(0,0,0)[0] intercept   : AIC=6067.115, Time=0.22 sec\n",
      " ARIMA(1,1,1)(0,0,0)[0] intercept   : AIC=6061.260, Time=0.75 sec\n",
      " ARIMA(2,1,1)(0,0,0)[0] intercept   : AIC=6062.893, Time=1.01 sec\n",
      " ARIMA(2,1,0)(0,0,0)[0] intercept   : AIC=6067.176, Time=0.22 sec\n",
      " ARIMA(2,1,2)(0,0,0)[0] intercept   : AIC=6063.627, Time=1.89 sec\n",
      " ARIMA(1,1,1)(0,0,0)[0]             : AIC=6062.355, Time=0.28 sec\n",
      "\n",
      "Best model:  ARIMA(1,1,1)(0,0,0)[0] intercept\n",
      "Total fit time: 5.658 seconds\n",
      "Performing stepwise search to minimize aic\n",
      " ARIMA(1,1,2)(0,0,0)[0] intercept   : AIC=4035.804, Time=0.49 sec\n",
      " ARIMA(0,1,0)(0,0,0)[0] intercept   : AIC=4062.795, Time=0.04 sec\n",
      " ARIMA(1,1,0)(0,0,0)[0] intercept   : AIC=4049.899, Time=0.12 sec\n",
      " ARIMA(0,1,1)(0,0,0)[0] intercept   : AIC=4046.348, Time=0.17 sec\n",
      " ARIMA(0,1,0)(0,0,0)[0]             : AIC=4067.400, Time=0.04 sec\n",
      " ARIMA(0,1,2)(0,0,0)[0] intercept   : AIC=4037.455, Time=0.19 sec\n",
      " ARIMA(1,1,1)(0,0,0)[0] intercept   : AIC=4036.696, Time=0.47 sec\n",
      " ARIMA(2,1,2)(0,0,0)[0] intercept   : AIC=4031.620, Time=1.15 sec\n",
      " ARIMA(2,1,1)(0,0,0)[0] intercept   : AIC=4036.496, Time=0.51 sec\n",
      " ARIMA(3,1,2)(0,0,0)[0] intercept   : AIC=4032.525, Time=1.44 sec\n",
      " ARIMA(2,1,3)(0,0,0)[0] intercept   : AIC=4032.609, Time=1.91 sec\n",
      " ARIMA(1,1,3)(0,0,0)[0] intercept   : AIC=4036.874, Time=1.07 sec\n",
      " ARIMA(3,1,1)(0,0,0)[0] intercept   : AIC=4038.462, Time=0.53 sec\n",
      " ARIMA(3,1,3)(0,0,0)[0] intercept   : AIC=4021.661, Time=3.27 sec\n",
      " ARIMA(4,1,3)(0,0,0)[0] intercept   : AIC=4023.025, Time=2.89 sec\n",
      " ARIMA(3,1,4)(0,0,0)[0] intercept   : AIC=4023.083, Time=3.20 sec\n",
      " ARIMA(2,1,4)(0,0,0)[0] intercept   : AIC=4031.147, Time=1.45 sec\n",
      " ARIMA(4,1,2)(0,0,0)[0] intercept   : AIC=4029.686, Time=1.55 sec\n",
      " ARIMA(4,1,4)(0,0,0)[0] intercept   : AIC=4022.578, Time=3.33 sec\n",
      " ARIMA(3,1,3)(0,0,0)[0]             : AIC=4034.034, Time=1.25 sec\n",
      "\n",
      "Best model:  ARIMA(3,1,3)(0,0,0)[0] intercept\n",
      "Total fit time: 25.063 seconds\n",
      "Performing stepwise search to minimize aic\n",
      " ARIMA(1,1,2)(0,0,0)[0] intercept   : AIC=11324.817, Time=1.10 sec\n",
      " ARIMA(0,1,0)(0,0,0)[0] intercept   : AIC=11321.169, Time=0.04 sec\n",
      " ARIMA(1,1,0)(0,0,0)[0] intercept   : AIC=11322.650, Time=0.09 sec\n",
      " ARIMA(0,1,1)(0,0,0)[0] intercept   : AIC=11322.611, Time=0.24 sec\n",
      " ARIMA(0,1,0)(0,0,0)[0]             : AIC=11323.122, Time=0.03 sec\n",
      " ARIMA(1,1,1)(0,0,0)[0] intercept   : AIC=11321.687, Time=0.47 sec\n",
      "\n",
      "Best model:  ARIMA(0,1,0)(0,0,0)[0] intercept\n",
      "Total fit time: 1.972 seconds\n",
      "Performing stepwise search to minimize aic\n",
      " ARIMA(1,1,2)(0,0,0)[0] intercept   : AIC=10192.925, Time=1.22 sec\n",
      " ARIMA(0,1,0)(0,0,0)[0] intercept   : AIC=10200.822, Time=0.04 sec\n",
      " ARIMA(1,1,0)(0,0,0)[0] intercept   : AIC=10202.598, Time=0.07 sec\n",
      " ARIMA(0,1,1)(0,0,0)[0] intercept   : AIC=10202.555, Time=0.20 sec\n",
      " ARIMA(0,1,0)(0,0,0)[0]             : AIC=10201.517, Time=0.03 sec\n",
      " ARIMA(0,1,2)(0,0,0)[0] intercept   : AIC=10196.446, Time=0.42 sec\n",
      " ARIMA(1,1,1)(0,0,0)[0] intercept   : AIC=10199.992, Time=0.53 sec\n",
      " ARIMA(2,1,2)(0,0,0)[0] intercept   : AIC=10192.369, Time=0.96 sec\n",
      " ARIMA(2,1,1)(0,0,0)[0] intercept   : AIC=10198.726, Time=0.81 sec\n",
      " ARIMA(3,1,2)(0,0,0)[0] intercept   : AIC=10194.202, Time=1.48 sec\n",
      " ARIMA(2,1,3)(0,0,0)[0] intercept   : AIC=10194.197, Time=1.83 sec\n",
      " ARIMA(1,1,3)(0,0,0)[0] intercept   : AIC=10193.565, Time=1.69 sec\n",
      " ARIMA(3,1,1)(0,0,0)[0] intercept   : AIC=10200.717, Time=1.43 sec\n",
      " ARIMA(3,1,3)(0,0,0)[0] intercept   : AIC=inf, Time=2.85 sec\n",
      " ARIMA(2,1,2)(0,0,0)[0]             : AIC=10195.697, Time=0.37 sec\n",
      "\n",
      "Best model:  ARIMA(2,1,2)(0,0,0)[0] intercept\n",
      "Total fit time: 13.941 seconds\n",
      "Performing stepwise search to minimize aic\n",
      " ARIMA(1,1,2)(0,0,0)[0] intercept   : AIC=4702.303, Time=0.31 sec\n",
      " ARIMA(0,1,0)(0,0,0)[0] intercept   : AIC=4696.363, Time=0.04 sec\n",
      " ARIMA(1,1,0)(0,0,0)[0] intercept   : AIC=4698.306, Time=0.10 sec\n",
      " ARIMA(0,1,1)(0,0,0)[0] intercept   : AIC=4698.309, Time=0.19 sec\n",
      " ARIMA(0,1,0)(0,0,0)[0]             : AIC=4694.878, Time=0.03 sec\n",
      " ARIMA(1,1,1)(0,0,0)[0] intercept   : AIC=4698.374, Time=0.45 sec\n",
      "\n",
      "Best model:  ARIMA(0,1,0)(0,0,0)[0]          \n",
      "Total fit time: 1.129 seconds\n"
     ]
    },
    {
     "data": {
      "text/plain": [
       "{'AAPL': ARIMA(order=(0, 1, 0), scoring_args={}, suppress_warnings=True),\n",
       " 'META': ARIMA(order=(1, 1, 1), scoring_args={}, suppress_warnings=True),\n",
       " 'MSFT': ARIMA(order=(3, 1, 3), scoring_args={}, suppress_warnings=True),\n",
       " 'AMZN': ARIMA(order=(0, 1, 0), scoring_args={}, suppress_warnings=True),\n",
       " 'GOOG': ARIMA(order=(2, 1, 2), scoring_args={}, suppress_warnings=True),\n",
       " 'TSLA': ARIMA(order=(0, 1, 0), scoring_args={}, suppress_warnings=True,\n",
       "       with_intercept=False)}"
      ]
     },
     "execution_count": 6,
     "metadata": {},
     "output_type": "execute_result"
    }
   ],
   "source": [
    "arima_model_results = {}\n",
    "for column in train.columns:\n",
    "    if column != 'Date':\n",
    "        auto_arima_result = auto_arima(train[column], start_p=1, d=1, q=0,\n",
    "                      max_p=5, max_d=1, max_q=5, seasonal=False, trace = True,\n",
    "                      supress_warnings=True, stepwise = True,\n",
    "                      random_state=1, n_fits=50)\n",
    "        arima_model_results[column]=auto_arima_result\n",
    "        \n",
    "arima_model_results"
   ]
  },
  {
   "cell_type": "code",
   "execution_count": 7,
   "id": "32759150",
   "metadata": {},
   "outputs": [
    {
     "name": "stderr",
     "output_type": "stream",
     "text": [
      "C:\\Users\\Lenovo\\AppData\\Roaming\\Python\\Python311\\site-packages\\sklearn\\utils\\_array_api.py:521: FutureWarning: Calling float on a single element Series is deprecated and will raise a TypeError in the future. Use float(ser.iloc[0]) instead\n",
      "  array = numpy.asarray(array, order=order, dtype=dtype)\n",
      "C:\\Users\\Lenovo\\AppData\\Roaming\\Python\\Python311\\site-packages\\sklearn\\utils\\_array_api.py:521: FutureWarning: Calling float on a single element Series is deprecated and will raise a TypeError in the future. Use float(ser.iloc[0]) instead\n",
      "  array = numpy.asarray(array, order=order, dtype=dtype)\n",
      "C:\\Users\\Lenovo\\AppData\\Roaming\\Python\\Python311\\site-packages\\sklearn\\utils\\_array_api.py:521: FutureWarning: Calling float on a single element Series is deprecated and will raise a TypeError in the future. Use float(ser.iloc[0]) instead\n",
      "  array = numpy.asarray(array, order=order, dtype=dtype)\n",
      "C:\\Users\\Lenovo\\AppData\\Roaming\\Python\\Python311\\site-packages\\sklearn\\utils\\_array_api.py:521: FutureWarning: Calling float on a single element Series is deprecated and will raise a TypeError in the future. Use float(ser.iloc[0]) instead\n",
      "  array = numpy.asarray(array, order=order, dtype=dtype)\n",
      "C:\\Users\\Lenovo\\AppData\\Roaming\\Python\\Python311\\site-packages\\sklearn\\utils\\_array_api.py:521: FutureWarning: Calling float on a single element Series is deprecated and will raise a TypeError in the future. Use float(ser.iloc[0]) instead\n",
      "  array = numpy.asarray(array, order=order, dtype=dtype)\n",
      "C:\\Users\\Lenovo\\AppData\\Roaming\\Python\\Python311\\site-packages\\sklearn\\utils\\_array_api.py:521: FutureWarning: Calling float on a single element Series is deprecated and will raise a TypeError in the future. Use float(ser.iloc[0]) instead\n",
      "  array = numpy.asarray(array, order=order, dtype=dtype)\n",
      "C:\\Users\\Lenovo\\AppData\\Roaming\\Python\\Python311\\site-packages\\sklearn\\utils\\_array_api.py:521: FutureWarning: Calling float on a single element Series is deprecated and will raise a TypeError in the future. Use float(ser.iloc[0]) instead\n",
      "  array = numpy.asarray(array, order=order, dtype=dtype)\n",
      "C:\\Users\\Lenovo\\AppData\\Roaming\\Python\\Python311\\site-packages\\sklearn\\utils\\_array_api.py:521: FutureWarning: Calling float on a single element Series is deprecated and will raise a TypeError in the future. Use float(ser.iloc[0]) instead\n",
      "  array = numpy.asarray(array, order=order, dtype=dtype)\n",
      "C:\\Users\\Lenovo\\AppData\\Roaming\\Python\\Python311\\site-packages\\sklearn\\utils\\_array_api.py:521: FutureWarning: Calling float on a single element Series is deprecated and will raise a TypeError in the future. Use float(ser.iloc[0]) instead\n",
      "  array = numpy.asarray(array, order=order, dtype=dtype)\n",
      "C:\\Users\\Lenovo\\AppData\\Roaming\\Python\\Python311\\site-packages\\sklearn\\utils\\_array_api.py:521: FutureWarning: Calling float on a single element Series is deprecated and will raise a TypeError in the future. Use float(ser.iloc[0]) instead\n",
      "  array = numpy.asarray(array, order=order, dtype=dtype)\n",
      "C:\\Users\\Lenovo\\AppData\\Roaming\\Python\\Python311\\site-packages\\sklearn\\utils\\_array_api.py:521: FutureWarning: Calling float on a single element Series is deprecated and will raise a TypeError in the future. Use float(ser.iloc[0]) instead\n",
      "  array = numpy.asarray(array, order=order, dtype=dtype)\n",
      "C:\\Users\\Lenovo\\AppData\\Roaming\\Python\\Python311\\site-packages\\sklearn\\utils\\_array_api.py:521: FutureWarning: Calling float on a single element Series is deprecated and will raise a TypeError in the future. Use float(ser.iloc[0]) instead\n",
      "  array = numpy.asarray(array, order=order, dtype=dtype)\n"
     ]
    },
    {
     "data": {
      "text/plain": [
       "{'AAPL': 2.57018331849275,\n",
       " 'META': 6.18670410298312,\n",
       " 'MSFT': 4.456804306595927,\n",
       " 'TSLA': 20.499440973945017,\n",
       " 'AMZN': 60.457461059254776,\n",
       " 'GOOG': 34.69949780577345}"
      ]
     },
     "execution_count": 7,
     "metadata": {},
     "output_type": "execute_result"
    }
   ],
   "source": [
    "mae_results = {}\n",
    "rmse_results = {}\n",
    "for column in test.columns:\n",
    "    if column != 'Date':\n",
    "        stock_hist = train[column]\n",
    "        predict = pd.Series()\n",
    "        for i in range(0, len(test), 1):\n",
    "            output = arima_model_results[column].fit_predict(stock_hist, n_periods=1)\n",
    "            obs = test[column][i]\n",
    "            stock_hist.loc[len(stock_hist)]=obs\n",
    "            predict.loc[len(predict)]=output    \n",
    "        actual = test[column]\n",
    "        mae = mean_absolute_error(actual, predict)\n",
    "        rmse = np.sqrt(mean_squared_error(actual, predict))\n",
    "        mae_results[column]=mae\n",
    "        rmse_results[column]=rmse"
   ]
  },
  {
   "cell_type": "code",
   "execution_count": 8,
   "id": "9b1cea8d",
   "metadata": {},
   "outputs": [
    {
     "data": {
      "text/plain": [
       "{'AAPL': 1.8819874358816384,\n",
       " 'META': 4.552589651933048,\n",
       " 'MSFT': 3.268965759311277,\n",
       " 'TSLA': 13.83666348502994,\n",
       " 'AMZN': 45.33258599389168,\n",
       " 'GOOG': 24.834809606539057}"
      ]
     },
     "execution_count": 8,
     "metadata": {},
     "output_type": "execute_result"
    }
   ],
   "source": [
    "mae_results"
   ]
  },
  {
   "cell_type": "code",
   "execution_count": 9,
   "id": "685576f2",
   "metadata": {},
   "outputs": [
    {
     "data": {
      "text/plain": [
       "{'AAPL': 2.57018331849275,\n",
       " 'META': 6.18670410298312,\n",
       " 'MSFT': 4.456804306595927,\n",
       " 'TSLA': 20.499440973945017,\n",
       " 'AMZN': 60.457461059254776,\n",
       " 'GOOG': 34.69949780577345}"
      ]
     },
     "execution_count": 9,
     "metadata": {},
     "output_type": "execute_result"
    }
   ],
   "source": [
    "rmse_results"
   ]
  },
  {
   "cell_type": "code",
   "execution_count": null,
   "id": "2c46e14b",
   "metadata": {},
   "outputs": [],
   "source": []
  }
 ],
 "metadata": {
  "kernelspec": {
   "display_name": "Python 3 (ipykernel)",
   "language": "python",
   "name": "python3"
  },
  "language_info": {
   "codemirror_mode": {
    "name": "ipython",
    "version": 3
   },
   "file_extension": ".py",
   "mimetype": "text/x-python",
   "name": "python",
   "nbconvert_exporter": "python",
   "pygments_lexer": "ipython3",
   "version": "3.11.5"
  }
 },
 "nbformat": 4,
 "nbformat_minor": 5
}
