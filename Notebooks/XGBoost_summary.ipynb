{
 "cells": [
  {
   "cell_type": "code",
   "execution_count": 3,
   "metadata": {},
   "outputs": [
    {
     "name": "stdout",
     "output_type": "stream",
     "text": [
      "       Stock  Article MAE  Project MAE  Article RMSE  Project RMSE\n",
      "0  Microsoft        4.192        5.011         5.661         6.550\n",
      "1      Apple        2.513        3.762         3.438         5.066\n",
      "2      Tesla       19.108       22.561        27.806        31.027\n",
      "3     Google       28.275       28.208        39.491        39.882\n",
      "4     Amazon       58.220       54.911        75.531        69.943\n",
      "5   Facebook        5.848        5.191         8.194         6.890\n"
     ]
    }
   ],
   "source": [
    "import pandas as pd\n",
    "\n",
    "model_performance = {\n",
    "    'Stock' : ['Microsoft', 'Apple', 'Tesla', 'Google', 'Amazon', 'Facebook'],\n",
    "    'Article MAE' : [4.192, 2.513, 19.108, 28.275, 58.220, 5.848],\n",
    "    'Project MAE' : [5.011, 3.762, 22.561, 28.208, 54.911, 5.191],\n",
    "    'Article RMSE' : [5.661, 3.438, 27.806, 39.491, 75.531, 8.194],\n",
    "    'Project RMSE' : [6.55, 5.066, 31.027, 39.882, 69.943, 6.890]\n",
    "}\n",
    "\n",
    "\n",
    "model_performance_df = pd.DataFrame(model_performance)\n",
    "\n",
    "print(model_performance_df)"
   ]
  }
 ],
 "metadata": {
  "kernelspec": {
   "display_name": "Python 3",
   "language": "python",
   "name": "python3"
  },
  "language_info": {
   "codemirror_mode": {
    "name": "ipython",
    "version": 3
   },
   "file_extension": ".py",
   "mimetype": "text/x-python",
   "name": "python",
   "nbconvert_exporter": "python",
   "pygments_lexer": "ipython3",
   "version": "3.12.2"
  }
 },
 "nbformat": 4,
 "nbformat_minor": 2
}
