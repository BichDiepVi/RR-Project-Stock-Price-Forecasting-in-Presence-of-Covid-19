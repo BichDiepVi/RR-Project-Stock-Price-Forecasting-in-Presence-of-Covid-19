{
 "cells": [
  {
   "cell_type": "markdown",
   "id": "edfe4c02",
   "metadata": {},
   "source": [
    "# LSTM models"
   ]
  },
  {
   "cell_type": "markdown",
   "id": "d1f0da26",
   "metadata": {},
   "source": [
    "## Final model selection"
   ]
  },
  {
   "cell_type": "markdown",
   "id": "3c930c69",
   "metadata": {},
   "source": [
    "LSTM models include many hyperparameters that can be refined to improve forecast performance. However, the original article does not mention the final model hyperparameters selected. Therefore, we decided to reproduce the stock predictions with the following detailed hyperparameter selection:\n",
    "\n",
    "Fixed hyperparameter:\n",
    "* time_step: 40\n",
    "* Number of LSTM layers: 2\n",
    "* Batch size: 32\n",
    "* Epochs: 100\n",
    "\n",
    "Hyperparameter tuning using Keras tuner random search with following search space and results:\n",
    "* Number of neurons [50, 100, 150, 200]\n",
    "* Learning rate [0.1, 0.01, 0.001]\n",
    "\n",
    "The final results show in following table:\n",
    "\n",
    "\n",
    "| Hyperparameter   | Microsoft | Apple | Tesla | Google | Amazon | Facebook |\n",
    "|------------------|-----------|-------|-------|--------|--------|----------|\n",
    "| Number of neurons| 150       | 200   | 50    | 50     | 50     | 50       |\n",
    "| Learning rate    | 0.001     | 0.001 | 0.001 | 0.001  | 0.001  | 0.001    |\n"
   ]
  },
  {
   "cell_type": "markdown",
   "id": "15e2fd31",
   "metadata": {},
   "source": [
    "## Compare with original paper"
   ]
  },
  {
   "cell_type": "markdown",
   "id": "2e8462cb",
   "metadata": {},
   "source": [
    "Our reproduced results have differences with original artical:\n",
    "* Our models perform better for some stocks: Microsoft , Apple, Google, and Facebook\n",
    "* However, some stock prediction worse than original results: Tesla and Amazon"
   ]
  },
  {
   "cell_type": "markdown",
   "id": "7705b4e1",
   "metadata": {},
   "source": [
    "|              | Microsoft | Apple  | Tesla   | Google  | Amazon   | Facebook |\n",
    "|--------------|-----------|--------|---------|---------|----------|----------|\n",
    "| **MAE**      |           |        |         |         |          |          |\n",
    "| Original paper | 6.0038    | 6.1825 | 75.5746 | 36.9705 | 119.7464 | 7.7448   |\n",
    "| Reproduced   | 3.8144    | 2.5536 | 164.3858| 29.9186 | 149.0705 | 5.6475   |\n",
    "| Difference   | 2.1894    | 3.6289 | (88.8112)| 7.0519  | (29.3241)| 2.0973   |\n",
    "| **RMSE**     |           |        |         |         |          |          |\n",
    "| Original paper | 8.0697    | 8.4841 | 119.6900| 53.5234 | 157.3958 | 10.3954  |\n",
    "| Reproduced   | 5.1004    | 3.3687 | 236.8421| 40.8264 | 169.7615 | 7.4096   |\n",
    "| Difference   | 2.9693    | 5.1154 | (117.1521)| 12.6970 | (12.3657)| 2.9858   |\n",
    "\n"
   ]
  },
  {
   "cell_type": "markdown",
   "id": "f93b459d-682a-49ea-894b-5387df960700",
   "metadata": {},
   "source": [
    "The results show that the forecasting errors are notably high, particularly for Tesla and Amazon. This could be due to the absence of a walk-forward process to re-train the model with new available data. Consequently, a model trained only once on the training data might not adequately capture emerging patterns in the new data of the test set, especially in cases of significant changes between the training and test periods, such as with Tesla"
   ]
  }
 ],
 "metadata": {
  "kernelspec": {
   "display_name": "Python 3 (ipykernel)",
   "language": "python",
   "name": "python3"
  },
  "language_info": {
   "codemirror_mode": {
    "name": "ipython",
    "version": 3
   },
   "file_extension": ".py",
   "mimetype": "text/x-python",
   "name": "python",
   "nbconvert_exporter": "python",
   "pygments_lexer": "ipython3",
   "version": "3.11.7"
  }
 },
 "nbformat": 4,
 "nbformat_minor": 5
}
